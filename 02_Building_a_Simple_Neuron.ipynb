{
  "nbformat": 4,
  "nbformat_minor": 0,
  "metadata": {
    "colab": {
      "provenance": []
    },
    "kernelspec": {
      "name": "python3",
      "display_name": "Python 3"
    },
    "language_info": {
      "name": "python"
    }
  },
  "cells": [
    {
      "cell_type": "markdown",
      "source": [
        "# Introduction to Neural Networks\n",
        "\n",
        "**What are Neural Networks?**\n",
        "\n",
        "Biological inspiration vs artificial neurons\n",
        "Perceptron model and limitations\n",
        "Multi-layer perceptrons (MLPs)\n",
        "Why deep learning works\n",
        "\n",
        "\n",
        "**Neural Network Architecture**\n",
        "\n",
        "Input layer, hidden layers, output layer\n",
        "Weights and biases\n",
        "Different network topologies\n",
        "Universal approximation theorem\n",
        "<img src=\"https://towardsdatascience.com/wp-content/uploads/2021/12/1hkYlTODpjJgo32DoCOWN5w.png\">\n",
        "\n",
        "\n",
        "**Mathematical Foundation**\n",
        "\n",
        "Neuron Mathematical Model\n",
        "\n",
        "Linear combination: z = w₁x₁ + w₂x₂ + ... + wₙxₙ + b\n",
        "Matrix representation: Z = XW + B\n",
        "Vectorization benefits\n",
        "\n",
        "<img src=\"https://miro.medium.com/v2/resize:fit:1188/1*uk8jFlha1xoJ68tjsmhQMg.png\">\n",
        "\n",
        "**Activation Functions**\n",
        "\n",
        "Why we need non-linearity\n",
        "\n",
        "<img src=\"https://machinemindscape.com/wp-content/uploads/2024/02/figure-7.png\">\n",
        "\n",
        "<img src=\"https://machinemindscape.com/wp-content/uploads/2024/02/figure-8-1024x536.png\">\n",
        "\n",
        "**Common activation functions:**\n",
        "\n",
        "Sigmoid: σ(z) = 1/(1 + e⁻ᶻ)\n",
        "Tanh: tanh(z) = (eᶻ - e⁻ᶻ)/(eᶻ + e⁻ᶻ)\n",
        "ReLU: f(z) = max(0, z)\n",
        "Leaky ReLU, ELU, Swish"
      ],
      "metadata": {
        "id": "5ITsgu7UzWHg"
      }
    },
    {
      "cell_type": "code",
      "source": [
        "import numpy as np\n",
        "import matplotlib.pyplot as plt"
      ],
      "metadata": {
        "id": "2XePE9AezNym"
      },
      "execution_count": null,
      "outputs": []
    },
    {
      "cell_type": "code",
      "source": [
        "# Implement activation functions\n",
        "def sigmoid(z):\n",
        "    return 1 / (1 + np.exp(-z))"
      ],
      "metadata": {
        "id": "nNHWHMqVzP-i"
      },
      "execution_count": null,
      "outputs": []
    },
    {
      "cell_type": "code",
      "source": [
        "def relu(z):\n",
        "    return np.maximum(0, z)"
      ],
      "metadata": {
        "id": "d0eVDrlOzRvT"
      },
      "execution_count": null,
      "outputs": []
    },
    {
      "cell_type": "code",
      "source": [
        "# Single neuron implementation\n",
        "class Neuron:\n",
        "    def __init__(self, n_inputs):\n",
        "        self.weights = np.random.randn(n_inputs)\n",
        "        self.bias = np.random.randn()\n",
        "\n",
        "    def forward(self, inputs):\n",
        "        z = np.dot(inputs, self.weights) + self.bias\n",
        "        return sigmoid(z)"
      ],
      "metadata": {
        "id": "IlBg6HIZz5qi"
      },
      "execution_count": null,
      "outputs": []
    },
    {
      "cell_type": "code",
      "execution_count": null,
      "metadata": {
        "colab": {
          "base_uri": "https://localhost:8080/"
        },
        "id": "rzT2BIftzFmQ",
        "outputId": "5ff3e052-cdb9-4f89-c24f-be8db6e4130e"
      },
      "outputs": [
        {
          "output_type": "stream",
          "name": "stdout",
          "text": [
            "Output: 0.14856173196746664\n"
          ]
        }
      ],
      "source": [
        "neuron = Neuron(2)\n",
        "inputs = np.array([1.0, 0.5])\n",
        "output = neuron.forward(inputs)\n",
        "print(f\"Output: {output}\")"
      ]
    },
    {
      "cell_type": "code",
      "source": [],
      "metadata": {
        "id": "MCPapmOJz71Y"
      },
      "execution_count": null,
      "outputs": []
    }
  ]
}