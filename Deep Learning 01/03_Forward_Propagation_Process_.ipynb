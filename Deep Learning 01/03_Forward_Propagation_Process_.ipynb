{
  "nbformat": 4,
  "nbformat_minor": 0,
  "metadata": {
    "colab": {
      "provenance": []
    },
    "kernelspec": {
      "name": "python3",
      "display_name": "Python 3"
    },
    "language_info": {
      "name": "python"
    }
  },
  "cells": [
    {
      "cell_type": "markdown",
      "source": [
        "# Forward Propagation Process\n",
        "\n",
        "**Layer-by-layer computation**\n",
        "\n",
        "- Input to hidden layer 1\n",
        "- Hidden layer 1 to hidden layer 2\n",
        "- Final hidden layer to output layer\n",
        "<img src=\"https://www.researchgate.net/publication/299474560/figure/fig6/AS:349583008911366@1460358492284/An-example-of-a-deep-neural-network-with-two-hidden-layers-The-first-layer-is-the-input.png\">\n",
        "\n",
        "\n",
        "\n",
        "**Mathematical Flow**\n",
        "\n",
        "```\n",
        "\n",
        "Z¹ = W¹X + b¹\n",
        "A¹ = g¹(Z¹)\n",
        "Z² = W²A¹ + b²\n",
        "A² = g²(Z²)\n",
        "Z³ = W³A² + b³\n",
        "A³ = g³(Z³) = ŷ (our prediction)\n",
        "\n",
        "Where g represents our activation functions.\n",
        "```\n",
        "\n",
        "**Vectorization for Batch Processing**\n",
        "\n",
        "- Processing multiple samples simultaneously\n",
        "- Broadcasting in numpy/tensorflow\n",
        "- Computational efficiency\n",
        "\n",
        "Let's think about dimensions. If we have:\n",
        "```\n",
        "100 samples\n",
        "10 input features\n",
        "First hidden layer: 64 neurons\n",
        "Second hidden layer: 32 neurons\n",
        "Output: 1 neuron\n",
        "\n",
        "Then:\n",
        "\n",
        "X: (10, 100) - 10 features, 100 samples\n",
        "W¹: (64, 10) - 64 neurons, 10 inputs each\n",
        "b¹: (64, 1) - 64 biases\n",
        "A¹: (64, 100) - 64 activations, 100 samples\n",
        "```\n",
        "This is called vectorization - we process all samples simultaneously. It's much faster than processing one sample at a time.\n",
        "Why is vectorization important? Modern computers, especially GPUs, are designed for parallel operations. When we use vectorized operations, we're utilizing the full power of the hardware.\"\n",
        "\n",
        "<img src=\"https://miro.medium.com/v2/resize:fit:689/1*0pRV1-1uNUxLmlvooreVpw.png\">\n",
        "\n",
        "\n",
        "## Multi-layer Network from Scratch"
      ],
      "metadata": {
        "id": "jgms4ZCJ4kAG"
      }
    },
    {
      "cell_type": "code",
      "source": [
        "import numpy as np\n",
        "import matplotlib.pyplot as plt"
      ],
      "metadata": {
        "id": "VQgHznY85p8r"
      },
      "execution_count": null,
      "outputs": []
    },
    {
      "cell_type": "code",
      "source": [
        "# Implement activation functions\n",
        "def sigmoid(z):\n",
        "    return 1 / (1 + np.exp(-z))\n",
        "\n",
        "def relu(z):\n",
        "    return np.maximum(0, z)"
      ],
      "metadata": {
        "id": "yqbXok0b5riP"
      },
      "execution_count": null,
      "outputs": []
    },
    {
      "cell_type": "code",
      "source": [
        "# Single neuron implementation\n",
        "class Neuron:\n",
        "    def __init__(self, n_inputs):\n",
        "        self.weights = np.random.randn(n_inputs)\n",
        "        self.bias = np.random.randn()\n",
        "\n",
        "    def forward(self, inputs):\n",
        "        z = np.dot(inputs, self.weights) + self.bias\n",
        "        return sigmoid(z)"
      ],
      "metadata": {
        "id": "Xq68bGCr5oPK"
      },
      "execution_count": null,
      "outputs": []
    },
    {
      "cell_type": "code",
      "source": [
        "class NeuralNetwork:\n",
        "  def __init__(self, layer_sizes):\n",
        "    self.layer_sizes = layer_sizes\n",
        "    self.parameters = {}\n",
        "\n",
        "    # Initialize weights and biases\n",
        "    for l in range(1, len(layer_sizes)):\n",
        "        self.parameters[f'W{l}'] = np.random.randn(layer_sizes[l], layer_sizes[l-1]) * 0.01\n",
        "        self.parameters[f'b{l}'] = np.zeros((layer_sizes[l], 1))\n",
        "  def forward_propagation(self, X):\n",
        "    cache = {}\n",
        "    A = X\n",
        "    cache['A0'] = A\n",
        "\n",
        "    # Forward through all layers\n",
        "    for l in range(1, len(self.layer_sizes)):\n",
        "        A_prev = A\n",
        "        W = self.parameters[f'W{l}']\n",
        "        b = self.parameters[f'b{l}']\n",
        "\n",
        "        Z = np.dot(W, A_prev) + b\n",
        "\n",
        "        # Apply activation (ReLU for hidden, Sigmoid for output)\n",
        "        if l == len(self.layer_sizes) - 1:  # Output layer\n",
        "            A = sigmoid(Z)\n",
        "        else:  # Hidden layers\n",
        "            A = relu(Z)\n",
        "\n",
        "        cache[f'Z{l}'] = Z\n",
        "        cache[f'A{l}'] = A\n",
        "\n",
        "    return A, cache"
      ],
      "metadata": {
        "id": "PmC9wcY346Rn"
      },
      "execution_count": null,
      "outputs": []
    },
    {
      "cell_type": "code",
      "source": [
        "# 3-layer network (2-4-1)\n",
        "network = NeuralNetwork([2, 4, 1])\n",
        "X = np.random.randn(2, 100)  # 2 features, 100 samples\n",
        "predictions, cache = network.forward_propagation(X)\n",
        "print(f\"Predictions shape: {predictions.shape}\")\n",
        "print(f\"Sample predictions: {predictions[:, :5]}\")"
      ],
      "metadata": {
        "colab": {
          "base_uri": "https://localhost:8080/"
        },
        "id": "R-04cS5z5BCU",
        "outputId": "94e9a864-646c-400f-c149-4e9d09da6400"
      },
      "execution_count": null,
      "outputs": [
        {
          "output_type": "stream",
          "name": "stdout",
          "text": [
            "Predictions shape: (1, 100)\n",
            "Sample predictions: [[0.49996922 0.49998035 0.49998136 0.49998563 0.49996731]]\n"
          ]
        }
      ]
    },
    {
      "cell_type": "code",
      "source": [
        "# Print activations at each layer\n",
        "for key, value in cache.items():\n",
        "    if 'A' in key:\n",
        "        print(f\"{key} shape: {value.shape}, mean: {value.mean():.3f}, std: {value.std():.3f}\")"
      ],
      "metadata": {
        "id": "7fE63SCP5Kkz",
        "colab": {
          "base_uri": "https://localhost:8080/"
        },
        "outputId": "9f47dcd3-f3b2-469f-f2a2-5e7c6c3eebc0"
      },
      "execution_count": null,
      "outputs": [
        {
          "output_type": "stream",
          "name": "stdout",
          "text": [
            "A0 shape: (2, 100), mean: -0.118, std: 1.004\n",
            "A1 shape: (4, 100), mean: 0.005, std: 0.011\n",
            "A2 shape: (1, 100), mean: 0.500, std: 0.000\n"
          ]
        }
      ]
    },
    {
      "cell_type": "code",
      "source": [
        "# Create a simple 2D classification problem\n",
        "from sklearn.datasets import make_moons\n",
        "X_data, y_data = make_moons(n_samples=300, noise=0.2, random_state=42)\n",
        "X_data = X_data.T  # Transpose for our format\n",
        "y_data = y_data.reshape(1, -1)"
      ],
      "metadata": {
        "id": "5cMS2-4H_1VK"
      },
      "execution_count": null,
      "outputs": []
    },
    {
      "cell_type": "code",
      "source": [
        "# Visualize the data\n",
        "plt.figure(figsize=(8, 6))\n",
        "plt.scatter(X_data[0, y_data[0]==0], X_data[1, y_data[0]==0], c='red', label='Class 0')\n",
        "plt.scatter(X_data[0, y_data[0]==1], X_data[1, y_data[0]==1], c='blue', label='Class 1')\n",
        "plt.xlabel('Feature 1')\n",
        "plt.ylabel('Feature 2')\n",
        "plt.title('Two Moons Dataset')\n",
        "plt.legend()\n",
        "plt.show()"
      ],
      "metadata": {
        "colab": {
          "base_uri": "https://localhost:8080/",
          "height": 564
        },
        "id": "cD2Iy6OsAUzM",
        "outputId": "144eef0d-8247-4152-91f0-cc8b5f81a809"
      },
      "execution_count": null,
      "outputs": [
        {
          "output_type": "display_data",
          "data": {
            "text/plain": [
              "<Figure size 800x600 with 1 Axes>"
            ],
            "image/png": "[encoded data removed]"
          },
          "metadata": {}
        }
      ]
    },
    {
      "cell_type": "code",
      "source": [
        "# Test our network on this data\n",
        "predictions, _ = network.forward_propagation(X_data)\n",
        "accuracy = np.mean((predictions > 0.5) == y_data)\n",
        "print(f\"Random network accuracy: {accuracy:.3f}\")"
      ],
      "metadata": {
        "id": "BOX2ZCUdAckV",
        "outputId": "370215dd-ff5e-4ba5-f2d8-df0f0c2be6ca",
        "colab": {
          "base_uri": "https://localhost:8080/"
        }
      },
      "execution_count": null,
      "outputs": [
        {
          "output_type": "stream",
          "name": "stdout",
          "text": [
            "Random network accuracy: 0.500\n"
          ]
        }
      ]
    },
    {
      "cell_type": "code",
      "source": [],
      "metadata": {
        "id": "YBAbBjGyAc1J"
      },
      "execution_count": null,
      "outputs": []
    }
  ]
}