{
  "nbformat": 4,
  "nbformat_minor": 0,
  "metadata": {
    "colab": {
      "provenance": [],
      "authorship_tag": "ABX9TyO1Ps7jBE8MgFR2lR2dYhsX",
      "include_colab_link": true
    },
    "kernelspec": {
      "name": "python3",
      "display_name": "Python 3"
    },
    "language_info": {
      "name": "python"
    }
  },
  "cells": [
    {
      "cell_type": "markdown",
      "metadata": {
        "id": "view-in-github",
        "colab_type": "text"
      },
      "source": [
        "<a href=\"https://colab.research.google.com/github/usshaa/BK_BIRLA_DL/blob/main/02_DL/03_Predict_house_prices_based_on_features.ipynb\" target=\"_parent\"><img src=\"https://colab.research.google.com/assets/colab-badge.svg\" alt=\"Open In Colab\"/></a>"
      ]
    },
    {
      "cell_type": "markdown",
      "source": [
        "## **ANN for Regression**"
      ],
      "metadata": {
        "id": "0Oc9ZzSlVF4E"
      }
    },
    {
      "cell_type": "markdown",
      "source": [
        "### 🎯 Objective: Predict House Prices Based on Features\n",
        "\n",
        "We'll use **Boston Housing dataset**, which is ideal for demonstrating regression with neural networks."
      ],
      "metadata": {
        "id": "Xk6ntallVLZp"
      }
    },
    {
      "cell_type": "markdown",
      "source": [
        "#### 1. 📦 Import Required Libraries"
      ],
      "metadata": {
        "id": "z4S94jaBVOG0"
      }
    },
    {
      "cell_type": "code",
      "execution_count": null,
      "metadata": {
        "id": "hqDp_Juh3bRW"
      },
      "outputs": [],
      "source": [
        "import numpy as np\n",
        "import matplotlib.pyplot as plt\n",
        "import tensorflow as tf\n",
        "from tensorflow.keras.models import Sequential\n",
        "from tensorflow.keras.layers import Dense\n",
        "from sklearn.model_selection import train_test_split\n",
        "from sklearn.preprocessing import StandardScaler\n",
        "from sklearn.metrics import mean_squared_error\n",
        "import pandas as pd\n",
        "import numpy as np"
      ]
    },
    {
      "cell_type": "markdown",
      "source": [
        "#### 2. 📊 Load and Preprocess Data"
      ],
      "metadata": {
        "id": "_9hfgjjgVUVK"
      }
    },
    {
      "cell_type": "code",
      "source": [
        "# Load Boston Housing dataset\n",
        "data_url = \"http://lib.stat.cmu.edu/datasets/boston\"\n",
        "raw_df = pd.read_csv(data_url, sep=\"\\s+\", skiprows=22, header=None)\n",
        "data = np.hstack([raw_df.values[::2, :], raw_df.values[1::2, :2]])\n",
        "target = raw_df.values[1::2, 2]"
      ],
      "metadata": {
        "id": "8XNowQTFVWnj"
      },
      "execution_count": null,
      "outputs": []
    },
    {
      "cell_type": "code",
      "source": [
        "X = data\n",
        "y = target"
      ],
      "metadata": {
        "id": "gIwXLHuhVyKd"
      },
      "execution_count": null,
      "outputs": []
    },
    {
      "cell_type": "code",
      "source": [
        "# Train-test split\n",
        "X_train, X_test, y_train, y_test = train_test_split(X, y, test_size=0.2, random_state=42)"
      ],
      "metadata": {
        "id": "YEvqkW9nVlmo"
      },
      "execution_count": null,
      "outputs": []
    },
    {
      "cell_type": "code",
      "source": [
        "# Normalize features\n",
        "scaler = StandardScaler()\n",
        "X_train = scaler.fit_transform(X_train)\n",
        "X_test = scaler.transform(X_test)"
      ],
      "metadata": {
        "id": "jLEEnZF5V23S"
      },
      "execution_count": null,
      "outputs": []
    },
    {
      "cell_type": "markdown",
      "source": [
        "#### 3. 🏗️ Build ANN Model for Regression"
      ],
      "metadata": {
        "id": "6TPW993-V47e"
      }
    },
    {
      "cell_type": "code",
      "source": [
        "model = Sequential([\n",
        "    Dense(64, input_dim=X_train.shape[1], activation='relu'),\n",
        "    Dense(32, activation='relu'),\n",
        "    Dense(1)  # No activation in output for regression\n",
        "])"
      ],
      "metadata": {
        "colab": {
          "base_uri": "https://localhost:8080/"
        },
        "id": "DUKAdNAUV7Qd",
        "outputId": "b6eca54d-2724-43fd-a21c-e269786348f0"
      },
      "execution_count": null,
      "outputs": [
        {
          "output_type": "stream",
          "name": "stderr",
          "text": [
            "/usr/local/lib/python3.11/dist-packages/keras/src/layers/core/dense.py:87: UserWarning: Do not pass an `input_shape`/`input_dim` argument to a layer. When using Sequential models, prefer using an `Input(shape)` object as the first layer in the model instead.\n",
            "  super().__init__(activity_regularizer=activity_regularizer, **kwargs)\n"
          ]
        }
      ]
    },
    {
      "cell_type": "markdown",
      "source": [
        "#### 4. ⚙️ Compile the Model"
      ],
      "metadata": {
        "id": "0G5lYSM5V95u"
      }
    },
    {
      "cell_type": "code",
      "source": [
        "model.compile(optimizer='adam', loss='mean_squared_error', metrics=['mae'])"
      ],
      "metadata": {
        "id": "aMa0pk8HV_vP"
      },
      "execution_count": null,
      "outputs": []
    },
    {
      "cell_type": "markdown",
      "source": [
        "### 5. 🚀 Train the Model"
      ],
      "metadata": {
        "id": "qfo7LPeUWB8z"
      }
    },
    {
      "cell_type": "code",
      "source": [
        "history = model.fit(X_train, y_train, epochs=150, batch_size=10, validation_split=0.1, verbose=0)"
      ],
      "metadata": {
        "id": "MSADYPQeWFyW"
      },
      "execution_count": null,
      "outputs": []
    },
    {
      "cell_type": "markdown",
      "source": [
        "### 6. 📈 Visualize Training Loss"
      ],
      "metadata": {
        "id": "KVPJxjWxWIFe"
      }
    },
    {
      "cell_type": "code",
      "source": [
        "plt.plot(history.history['loss'], label='Training Loss')\n",
        "plt.plot(history.history['val_loss'], label='Validation Loss')\n",
        "plt.xlabel(\"Epochs\")\n",
        "plt.ylabel(\"MSE Loss\")\n",
        "plt.title(\"Training & Validation Loss\")\n",
        "plt.legend()\n",
        "plt.show()"
      ],
      "metadata": {
        "colab": {
          "base_uri": "https://localhost:8080/",
          "height": 472
        },
        "id": "YI-BxRS9WK4-",
        "outputId": "703ea303-4ff0-4a02-a33c-9f9e2344674c"
      },
      "execution_count": null,
      "outputs": [
        {
          "output_type": "display_data",
          "data": {
            "text/plain": [
              "<Figure size 640x480 with 1 Axes>"
            ],
            "image/png": "[encoded data removed]"
          },
          "metadata": {}
        }
      ]
    },
    {
      "cell_type": "markdown",
      "source": [
        "### 7. ✅ Evaluate Model Performance"
      ],
      "metadata": {
        "id": "gZsnGQmaWOTg"
      }
    },
    {
      "cell_type": "code",
      "source": [
        "# Predict and evaluate\n",
        "y_pred = model.predict(X_test)\n",
        "mse = mean_squared_error(y_test, y_pred)\n",
        "print(f\"\\nTest Mean Squared Error: {mse:.2f}\")"
      ],
      "metadata": {
        "colab": {
          "base_uri": "https://localhost:8080/"
        },
        "id": "5zin9gd-WQl4",
        "outputId": "7b3f8036-4b09-4321-8bb0-f7196fad82fa"
      },
      "execution_count": null,
      "outputs": [
        {
          "output_type": "stream",
          "name": "stdout",
          "text": [
            "\u001b[1m4/4\u001b[0m \u001b[32m━━━━━━━━━━━━━━━━━━━━\u001b[0m\u001b[37m\u001b[0m \u001b[1m0s\u001b[0m 17ms/step\n",
            "\n",
            "Test Mean Squared Error: 10.16\n"
          ]
        }
      ]
    },
    {
      "cell_type": "markdown",
      "source": [
        "| **Concept**           | **Implementation**                                  |\n",
        "| --------------------- | --------------------------------------------------- |\n",
        "| **Regression Output** | `Dense(1)` with no activation function              |\n",
        "| **Loss Function**     | `'mean_squared_error'` for regression               |\n",
        "| **Optimizer**         | `'adam'` for fast convergence                       |\n",
        "| **Evaluation Metric** | Mean Absolute Error (MAE), Mean Squared Error (MSE) |\n",
        "| **Normalization**     | Important for ANN performance on regression tasks   |\n"
      ],
      "metadata": {
        "id": "Y6WA-40dWVEQ"
      }
    },
    {
      "cell_type": "code",
      "source": [],
      "metadata": {
        "id": "XP00bXDkVjcp"
      },
      "execution_count": null,
      "outputs": []
    }
  ]
}