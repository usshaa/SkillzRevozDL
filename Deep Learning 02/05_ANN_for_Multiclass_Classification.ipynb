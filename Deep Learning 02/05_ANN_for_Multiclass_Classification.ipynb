{
  "nbformat": 4,
  "nbformat_minor": 0,
  "metadata": {
    "colab": {
      "provenance": []
    },
    "kernelspec": {
      "name": "python3",
      "display_name": "Python 3"
    },
    "language_info": {
      "name": "python"
    }
  },
  "cells": [
    {
      "cell_type": "markdown",
      "source": [
        "## Case Study 3: **ANN for Multiclass Classification**"
      ],
      "metadata": {
        "id": "QE_dlxJFH1VY"
      }
    },
    {
      "cell_type": "markdown",
      "source": [
        "### Objective: Classify flowers into 3 species using the **Iris dataset** (Setosa, Versicolor, Virginica)"
      ],
      "metadata": {
        "id": "9XXG_6opH519"
      }
    },
    {
      "cell_type": "markdown",
      "source": [
        "#### 1. 📦 Import Required Libraries"
      ],
      "metadata": {
        "id": "MgzjNLj6H8tz"
      }
    },
    {
      "cell_type": "code",
      "source": [
        "import numpy as np\n",
        "import matplotlib.pyplot as plt\n",
        "import tensorflow as tf\n",
        "from tensorflow.keras.models import Sequential\n",
        "from tensorflow.keras.layers import Dense\n",
        "from tensorflow.keras.utils import to_categorical\n",
        "from sklearn.datasets import load_iris\n",
        "from sklearn.model_selection import train_test_split\n",
        "from sklearn.preprocessing import StandardScaler\n",
        "from sklearn.metrics import classification_report, confusion_matrix"
      ],
      "metadata": {
        "id": "7ZOTsi98IGvK"
      },
      "execution_count": 1,
      "outputs": []
    },
    {
      "cell_type": "markdown",
      "source": [
        "#### 2. Load and Preprocess Data"
      ],
      "metadata": {
        "id": "mbSCjDAlIKGq"
      }
    },
    {
      "cell_type": "code",
      "source": [
        "# Load the Iris dataset\n",
        "iris = load_iris()\n",
        "X = iris.data\n",
        "y = iris.target  # 0 = Setosa, 1 = Versicolor, 2 = Virginica"
      ],
      "metadata": {
        "id": "qUaRPkXkIMhz"
      },
      "execution_count": 2,
      "outputs": []
    },
    {
      "cell_type": "code",
      "source": [
        "# One-hot encode the labels\n",
        "y = to_categorical(y, num_classes=3)"
      ],
      "metadata": {
        "id": "J4gyaUsbITVR"
      },
      "execution_count": 3,
      "outputs": []
    },
    {
      "cell_type": "code",
      "source": [
        "# Train-Test Split\n",
        "X_train, X_test, y_train, y_test = train_test_split(X, y, test_size=0.2, random_state=42)"
      ],
      "metadata": {
        "id": "QOxJRidnIWg5"
      },
      "execution_count": 4,
      "outputs": []
    },
    {
      "cell_type": "code",
      "source": [
        "# Normalize input features\n",
        "scaler = StandardScaler()\n",
        "X_train = scaler.fit_transform(X_train)\n",
        "X_test = scaler.transform(X_test)"
      ],
      "metadata": {
        "id": "1fbCAWpPIarX"
      },
      "execution_count": 5,
      "outputs": []
    },
    {
      "cell_type": "markdown",
      "source": [
        "#### 3. Build ANN Model for Multiclass Classification"
      ],
      "metadata": {
        "id": "MIzTHhz0IdBC"
      }
    },
    {
      "cell_type": "code",
      "source": [
        "model = Sequential([\n",
        "    Dense(10, input_dim=4, activation='relu'),\n",
        "    Dense(8, activation='relu'),\n",
        "    Dense(3, activation='softmax')  # Output layer for 3 classes\n",
        "])"
      ],
      "metadata": {
        "colab": {
          "base_uri": "https://localhost:8080/"
        },
        "id": "MrYagk5nIj0m",
        "outputId": "def590fa-eb39-48df-8e7d-7970b0272207"
      },
      "execution_count": 6,
      "outputs": [
        {
          "output_type": "stream",
          "name": "stderr",
          "text": [
            "/usr/local/lib/python3.11/dist-packages/keras/src/layers/core/dense.py:93: UserWarning: Do not pass an `input_shape`/`input_dim` argument to a layer. When using Sequential models, prefer using an `Input(shape)` object as the first layer in the model instead.\n",
            "  super().__init__(activity_regularizer=activity_regularizer, **kwargs)\n"
          ]
        }
      ]
    },
    {
      "cell_type": "markdown",
      "source": [
        "#### 4. Compile the Model"
      ],
      "metadata": {
        "id": "ZyiZN2gdInwV"
      }
    },
    {
      "cell_type": "code",
      "source": [
        "model.compile(optimizer='adam',\n",
        "              loss='categorical_crossentropy',\n",
        "              metrics=['accuracy'])"
      ],
      "metadata": {
        "id": "efcQM54-Ipii"
      },
      "execution_count": 7,
      "outputs": []
    },
    {
      "cell_type": "markdown",
      "source": [
        "#### 5. Train the Model"
      ],
      "metadata": {
        "id": "IFidARYDIsJX"
      }
    },
    {
      "cell_type": "code",
      "source": [
        "history = model.fit(X_train, y_train,\n",
        "                    epochs=150,\n",
        "                    batch_size=5,\n",
        "                    validation_split=0.1,\n",
        "                    verbose=0)"
      ],
      "metadata": {
        "id": "JKuxf62tIyd2"
      },
      "execution_count": 8,
      "outputs": []
    },
    {
      "cell_type": "markdown",
      "source": [
        "#### 6. Plot Accuracy Graph"
      ],
      "metadata": {
        "id": "2a9KIU0xI4Jz"
      }
    },
    {
      "cell_type": "code",
      "source": [
        "plt.plot(history.history['accuracy'], label='Train Accuracy')\n",
        "plt.plot(history.history['val_accuracy'], label='Validation Accuracy')\n",
        "plt.xlabel(\"Epochs\")\n",
        "plt.ylabel(\"Accuracy\")\n",
        "plt.title(\"Multiclass ANN - Training/Validation Accuracy\")\n",
        "plt.legend()\n",
        "plt.show()"
      ],
      "metadata": {
        "colab": {
          "base_uri": "https://localhost:8080/",
          "height": 472
        },
        "id": "xchZNiJqI7Kc",
        "outputId": "daed72cb-a808-4c6b-a361-6d2aaa259e5b"
      },
      "execution_count": 9,
      "outputs": [
        {
          "output_type": "display_data",
          "data": {
            "text/plain": [
              "<Figure size 640x480 with 1 Axes>"
            ],
            "image/png": "[encoded data removed]"
          },
          "metadata": {}
        }
      ]
    },
    {
      "cell_type": "markdown",
      "source": [
        "#### 7. Evaluate the Model"
      ],
      "metadata": {
        "id": "qYln7UOZI-wK"
      }
    },
    {
      "cell_type": "code",
      "source": [
        "# Predict\n",
        "y_pred = model.predict(X_test)\n",
        "y_pred_classes = np.argmax(y_pred, axis=1)\n",
        "y_true_classes = np.argmax(y_test, axis=1)"
      ],
      "metadata": {
        "colab": {
          "base_uri": "https://localhost:8080/"
        },
        "id": "2erYd5h4JBf6",
        "outputId": "371a6e81-83e3-454a-f272-6962ac42501f"
      },
      "execution_count": 10,
      "outputs": [
        {
          "output_type": "stream",
          "name": "stdout",
          "text": [
            "\u001b[1m1/1\u001b[0m \u001b[32m━━━━━━━━━━━━━━━━━━━━\u001b[0m\u001b[37m\u001b[0m \u001b[1m0s\u001b[0m 102ms/step\n"
          ]
        }
      ]
    },
    {
      "cell_type": "code",
      "source": [
        "# Results\n",
        "print(\"Confusion Matrix:\\n\", confusion_matrix(y_true_classes, y_pred_classes))\n",
        "print(\"\\nClassification Report:\\n\", classification_report(y_true_classes, y_pred_classes))"
      ],
      "metadata": {
        "colab": {
          "base_uri": "https://localhost:8080/"
        },
        "id": "_fyEM2FKJE0X",
        "outputId": "0fdf8075-31fe-44c4-c69e-09e02d14c9b9"
      },
      "execution_count": 11,
      "outputs": [
        {
          "output_type": "stream",
          "name": "stdout",
          "text": [
            "Confusion Matrix:\n",
            " [[10  0  0]\n",
            " [ 0  9  0]\n",
            " [ 0  0 11]]\n",
            "\n",
            "Classification Report:\n",
            "               precision    recall  f1-score   support\n",
            "\n",
            "           0       1.00      1.00      1.00        10\n",
            "           1       1.00      1.00      1.00         9\n",
            "           2       1.00      1.00      1.00        11\n",
            "\n",
            "    accuracy                           1.00        30\n",
            "   macro avg       1.00      1.00      1.00        30\n",
            "weighted avg       1.00      1.00      1.00        30\n",
            "\n"
          ]
        }
      ]
    },
    {
      "cell_type": "markdown",
      "source": [
        "| **Concept**                 | **Implementation**                                  |\n",
        "| --------------------------- | --------------------------------------------------- |\n",
        "| **Multiclass Output Layer** | `Dense(3, activation='softmax')` (3 output neurons) |\n",
        "| **Loss Function**           | `'categorical_crossentropy'`                        |\n",
        "| **Label Encoding**          | `to_categorical()` to one-hot encode classes        |\n",
        "| **Evaluation**              | Accuracy, Confusion Matrix, Classification Report   |\n"
      ],
      "metadata": {
        "id": "GCSiVDxqJPS1"
      }
    },
    {
      "cell_type": "code",
      "source": [],
      "metadata": {
        "id": "2GaOREyMJa9N"
      },
      "execution_count": null,
      "outputs": []
    }
  ]
}