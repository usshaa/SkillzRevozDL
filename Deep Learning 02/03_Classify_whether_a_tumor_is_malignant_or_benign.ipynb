{
  "nbformat": 4,
  "nbformat_minor": 0,
  "metadata": {
    "colab": {
      "provenance": [],
      "authorship_tag": "ABX9TyMult2XIy6Mtw5GCiNRkVFu",
      "include_colab_link": true
    },
    "kernelspec": {
      "name": "python3",
      "display_name": "Python 3"
    },
    "language_info": {
      "name": "python"
    }
  },
  "cells": [
    {
      "cell_type": "markdown",
      "metadata": {
        "id": "view-in-github",
        "colab_type": "text"
      },
      "source": [
        "<a href=\"https://colab.research.google.com/github/usshaa/BK_BIRLA_DL/blob/main/02_DL/04_Classify_whether_a_tumor_is_malignant_or_benign.ipynb\" target=\"_parent\"><img src=\"https://colab.research.google.com/assets/colab-badge.svg\" alt=\"Open In Colab\"/></a>"
      ]
    },
    {
      "cell_type": "markdown",
      "source": [
        "## **ANN for Binary Classification**"
      ],
      "metadata": {
        "id": "jIge9OdbXA4q"
      }
    },
    {
      "cell_type": "markdown",
      "source": [
        "### 🎯 Objective: Classify whether a tumor is malignant or benign\n",
        "\n",
        "We’ll use the **Breast Cancer Wisconsin dataset** from `sklearn.datasets`.\n"
      ],
      "metadata": {
        "id": "2L5bd6e-XD2_"
      }
    },
    {
      "cell_type": "markdown",
      "source": [
        "#### 1. 📦 Import Libraries"
      ],
      "metadata": {
        "id": "VX0Y7ouhXF6T"
      }
    },
    {
      "cell_type": "code",
      "source": [
        "import numpy as np\n",
        "import matplotlib.pyplot as plt\n",
        "import tensorflow as tf\n",
        "from tensorflow.keras.models import Sequential\n",
        "from tensorflow.keras.layers import Dense\n",
        "from sklearn.datasets import load_breast_cancer\n",
        "from sklearn.model_selection import train_test_split\n",
        "from sklearn.preprocessing import StandardScaler\n",
        "from sklearn.metrics import classification_report, confusion_matrix"
      ],
      "metadata": {
        "id": "sji4XtGbXI-i"
      },
      "execution_count": null,
      "outputs": []
    },
    {
      "cell_type": "markdown",
      "source": [
        "#### 2. 📊 Load & Prepare Dataset"
      ],
      "metadata": {
        "id": "P_EeYlBZXKm8"
      }
    },
    {
      "cell_type": "code",
      "source": [
        "# Load dataset\n",
        "data = load_breast_cancer()\n",
        "X = data.data\n",
        "y = data.target  # 0 = malignant, 1 = benign"
      ],
      "metadata": {
        "id": "uPJExAqfXN6A"
      },
      "execution_count": null,
      "outputs": []
    },
    {
      "cell_type": "code",
      "source": [
        "# Train-Test Split\n",
        "X_train, X_test, y_train, y_test = train_test_split(X, y, test_size=0.2, random_state=42)"
      ],
      "metadata": {
        "id": "FzuDXf3zXPe9"
      },
      "execution_count": null,
      "outputs": []
    },
    {
      "cell_type": "code",
      "source": [
        "# Normalize Features\n",
        "scaler = StandardScaler()\n",
        "X_train = scaler.fit_transform(X_train)\n",
        "X_test = scaler.transform(X_test)"
      ],
      "metadata": {
        "id": "vNcbO98QXRZQ"
      },
      "execution_count": null,
      "outputs": []
    },
    {
      "cell_type": "markdown",
      "source": [
        "### 3. 🏗️ Build ANN Model for Binary Classification"
      ],
      "metadata": {
        "id": "0TA1iEMOXUPQ"
      }
    },
    {
      "cell_type": "code",
      "source": [
        "model = Sequential([\n",
        "    Dense(16, input_dim=X_train.shape[1], activation='relu'),\n",
        "    Dense(8, activation='relu'),\n",
        "    Dense(1, activation='sigmoid')  # Output for binary classification\n",
        "])"
      ],
      "metadata": {
        "colab": {
          "base_uri": "https://localhost:8080/"
        },
        "id": "MkPC1C9ZXXqF",
        "outputId": "b6f3a85d-e4e3-4631-fb9e-8ef13cf2fa92"
      },
      "execution_count": null,
      "outputs": [
        {
          "output_type": "stream",
          "name": "stderr",
          "text": [
            "/usr/local/lib/python3.11/dist-packages/keras/src/layers/core/dense.py:87: UserWarning: Do not pass an `input_shape`/`input_dim` argument to a layer. When using Sequential models, prefer using an `Input(shape)` object as the first layer in the model instead.\n",
            "  super().__init__(activity_regularizer=activity_regularizer, **kwargs)\n"
          ]
        }
      ]
    },
    {
      "cell_type": "markdown",
      "source": [
        "### 4. ⚙️ Compile the Model"
      ],
      "metadata": {
        "id": "77hKgiEqXaF6"
      }
    },
    {
      "cell_type": "code",
      "source": [
        "model.compile(optimizer='adam',\n",
        "              loss='binary_crossentropy',\n",
        "              metrics=['accuracy'])"
      ],
      "metadata": {
        "id": "1RPFA-doXfV7"
      },
      "execution_count": null,
      "outputs": []
    },
    {
      "cell_type": "markdown",
      "source": [
        "### 5. 🚀 Train the Model"
      ],
      "metadata": {
        "id": "-hfbSFJPXdm2"
      }
    },
    {
      "cell_type": "code",
      "source": [
        "history = model.fit(X_train, y_train,\n",
        "                    epochs=100,\n",
        "                    batch_size=10,\n",
        "                    validation_split=0.1,\n",
        "                    verbose=0)"
      ],
      "metadata": {
        "id": "s-nUWnQVXjme"
      },
      "execution_count": null,
      "outputs": []
    },
    {
      "cell_type": "markdown",
      "source": [
        "### 6. 📈 Plot Training History"
      ],
      "metadata": {
        "id": "DzVUpyPgXmka"
      }
    },
    {
      "cell_type": "code",
      "source": [
        "plt.plot(history.history['accuracy'], label='Train Accuracy')\n",
        "plt.plot(history.history['val_accuracy'], label='Validation Accuracy')\n",
        "plt.xlabel('Epochs')\n",
        "plt.ylabel('Accuracy')\n",
        "plt.legend()\n",
        "plt.title('Training & Validation Accuracy')\n",
        "plt.show()"
      ],
      "metadata": {
        "colab": {
          "base_uri": "https://localhost:8080/",
          "height": 472
        },
        "id": "wW9SIborXoz_",
        "outputId": "f2614a7c-cda7-487e-e269-1c31b7d88570"
      },
      "execution_count": null,
      "outputs": [
        {
          "output_type": "display_data",
          "data": {
            "text/plain": [
              "<Figure size 640x480 with 1 Axes>"
            ],
            "image/png": "[encoded data removed]"
          },
          "metadata": {}
        }
      ]
    },
    {
      "cell_type": "markdown",
      "source": [
        "### 7. ✅ Evaluate the Model"
      ],
      "metadata": {
        "id": "eKNSeTmlXqqd"
      }
    },
    {
      "cell_type": "code",
      "source": [
        "# Predict\n",
        "y_pred = (model.predict(X_test) > 0.5).astype(\"int32\")"
      ],
      "metadata": {
        "colab": {
          "base_uri": "https://localhost:8080/"
        },
        "id": "rjaSttKrXta4",
        "outputId": "c6a15f07-c864-4621-8085-d02dc8892cb5"
      },
      "execution_count": null,
      "outputs": [
        {
          "output_type": "stream",
          "name": "stdout",
          "text": [
            "\u001b[1m4/4\u001b[0m \u001b[32m━━━━━━━━━━━━━━━━━━━━\u001b[0m\u001b[37m\u001b[0m \u001b[1m0s\u001b[0m 35ms/step\n"
          ]
        }
      ]
    },
    {
      "cell_type": "code",
      "source": [
        "# Evaluation\n",
        "print(\"Confusion Matrix:\\n\", confusion_matrix(y_test, y_pred))\n",
        "print(\"\\nClassification Report:\\n\", classification_report(y_test, y_pred))"
      ],
      "metadata": {
        "id": "95C7cBT99FU2",
        "colab": {
          "base_uri": "https://localhost:8080/"
        },
        "outputId": "4568ddcf-391a-435c-f2a1-8076c4bbe313"
      },
      "execution_count": null,
      "outputs": [
        {
          "output_type": "stream",
          "name": "stdout",
          "text": [
            "Confusion Matrix:\n",
            " [[42  1]\n",
            " [ 3 68]]\n",
            "\n",
            "Classification Report:\n",
            "               precision    recall  f1-score   support\n",
            "\n",
            "           0       0.93      0.98      0.95        43\n",
            "           1       0.99      0.96      0.97        71\n",
            "\n",
            "    accuracy                           0.96       114\n",
            "   macro avg       0.96      0.97      0.96       114\n",
            "weighted avg       0.97      0.96      0.97       114\n",
            "\n"
          ]
        }
      ]
    },
    {
      "cell_type": "markdown",
      "source": [
        "| **Concept**             | **Implementation**                                |\n",
        "| ----------------------- | ------------------------------------------------- |\n",
        "| **Binary Output Layer** | `Dense(1, activation='sigmoid')`                  |\n",
        "| **Loss Function**       | `'binary_crossentropy'`                           |\n",
        "| **Evaluation Metrics**  | Accuracy, Confusion Matrix, Classification Report |\n",
        "| **Optimizer**           | `'adam'`                                          |\n",
        "| **Normalization**       | StandardScaler for better convergence             |"
      ],
      "metadata": {
        "id": "XwK0zIxGW7Zf"
      }
    },
    {
      "cell_type": "code",
      "source": [],
      "metadata": {
        "id": "5AFb60FzW703"
      },
      "execution_count": null,
      "outputs": []
    }
  ]
}